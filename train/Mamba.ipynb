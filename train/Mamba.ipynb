{
 "cells": [
  {
   "cell_type": "code",
   "execution_count": null,
   "id": "b487095f-29d6-4c1d-894a-34afc1c4efda",
   "metadata": {},
   "outputs": [],
   "source": [
    "import requests\n",
    "from tqdm.auto import tqdm\n",
    "import matplotlib.pyplot as plt\n",
    "import json"
   ]
  },
  {
   "cell_type": "code",
   "execution_count": null,
   "id": "3f9d3ad5-6619-466f-aac0-11efdfee5a30",
   "metadata": {},
   "outputs": [],
   "source": [
    "headers = {\n",
    "    \"Mamba-Client\": \"redacted\",\n",
    "    \"Mamba-Features\": \"redacted\",\n",
    "    \"Cookie\": \"redacted\",\n",
    "}"
   ]
  },
  {
   "cell_type": "code",
   "execution_count": null,
   "id": "4d34e34b-6696-414a-92e9-aaff0e15f079",
   "metadata": {},
   "outputs": [],
   "source": [
    "users = {}"
   ]
  },
  {
   "cell_type": "code",
   "execution_count": null,
   "id": "b1c24401-9eeb-4b70-9473-153ee384f3f5",
   "metadata": {},
   "outputs": [],
   "source": [
    "for i in tqdm(range(25)):\n",
    "    url = f\"https://www.mamba.ru/api/search?statusNames=hasVerifiedPhoto,spaceTimeLocation,online&limit=120&cursor[type]=proxy_default&cursor[searchId]=1002&cursor[negativeTags]=false&cursor[searcherOffset]={i*120}\"\n",
    "    res = requests.get(url, headers=headers)\n",
    "    data = res.json()\n",
    "\n",
    "    for user in tqdm(data[\"items\"]):\n",
    "        id = user[\"profile\"][\"id\"]\n",
    "\n",
    "        if id in users:\n",
    "            continue\n",
    "\n",
    "        if user[\"lookFor\"] != \"девушку\":\n",
    "            continue\n",
    "\n",
    "        img_data = requests.get(user[\"userpic\"][\"squareLarge\"]).content\n",
    "        with open(f\"mamba/straight/{id}.jpg\", \"wb\") as handler:\n",
    "            handler.write(img_data)\n",
    "\n",
    "        users[id] = {\n",
    "            \"age\": user[\"profile\"][\"age\"],\n",
    "            \"name\": user[\"profile\"][\"name\"],\n",
    "            \"look_for\": user[\"lookFor\"],\n",
    "        }"
   ]
  },
  {
   "cell_type": "code",
   "execution_count": null,
   "id": "8915dad8-5fb9-4704-9be4-57be90d291d8",
   "metadata": {},
   "outputs": [],
   "source": [
    "with open(f\"mamba/straight/db.json\", \"w\") as f:\n",
    "    f.write(json.dumps(users, ensure_ascii=False))"
   ]
  },
  {
   "cell_type": "code",
   "execution_count": null,
   "id": "f8e5f94c-d6b2-47cf-909e-99ce856f67d0",
   "metadata": {},
   "outputs": [],
   "source": [
    "ages = []\n",
    "for i in range(18, 61):\n",
    "    c = 0\n",
    "    for user in users.values():\n",
    "        if user[\"age\"] == i:\n",
    "            c += 1\n",
    "    ages.append(c)"
   ]
  },
  {
   "cell_type": "code",
   "execution_count": null,
   "id": "a2253b50-330b-416b-a529-c444fcce4c4d",
   "metadata": {},
   "outputs": [],
   "source": [
    "plt.plot([i for i in range(18, 61)], ages)"
   ]
  }
 ],
 "metadata": {
  "kernelspec": {
   "display_name": "Python 3 (ipykernel)",
   "language": "python",
   "name": "python3"
  },
  "language_info": {
   "codemirror_mode": {
    "name": "ipython",
    "version": 3
   },
   "file_extension": ".py",
   "mimetype": "text/x-python",
   "name": "python",
   "nbconvert_exporter": "python",
   "pygments_lexer": "ipython3",
   "version": "3.11.7"
  }
 },
 "nbformat": 4,
 "nbformat_minor": 5
}
