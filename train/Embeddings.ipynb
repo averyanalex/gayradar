{
 "cells": [
  {
   "cell_type": "code",
   "execution_count": null,
   "id": "3430696e-bf7c-4668-a5ee-57d951ae0052",
   "metadata": {},
   "outputs": [],
   "source": [
    "import insightface\n",
    "from PIL import Image\n",
    "import numpy as np\n",
    "import cv2\n",
    "from tqdm.auto import tqdm\n",
    "import os\n",
    "import random"
   ]
  },
  {
   "cell_type": "code",
   "execution_count": null,
   "id": "06f4fcef-2ac0-4905-9432-1227290070ec",
   "metadata": {},
   "outputs": [],
   "source": [
    "# antelopev2: https://drive.google.com/file/d/18wEUfMNohBJ4K3Ly5wpTejPfDzp-8fI8/view?usp=sharing\n",
    "app = insightface.app.FaceAnalysis(\n",
    "    name=\"antelopev2\", providers=[\"CPUExecutionProvider\"]\n",
    ")\n",
    "app.prepare(ctx_id=0)"
   ]
  },
  {
   "cell_type": "code",
   "execution_count": null,
   "id": "534df7b4-e2b3-41ca-b62c-a600607ba9d2",
   "metadata": {},
   "outputs": [],
   "source": [
    "data = []"
   ]
  },
  {
   "cell_type": "code",
   "execution_count": null,
   "id": "ccda4db5-eede-4976-aae0-4d89b0a0bb9e",
   "metadata": {},
   "outputs": [],
   "source": [
    "def handle_face(file, res):\n",
    "    img = Image.open(file)\n",
    "    img = np.array(img.convert(\"RGB\"))\n",
    "    faces = app.get(img)\n",
    "\n",
    "    if faces:\n",
    "        face = faces[0]\n",
    "        data.append([res, face.embedding])"
   ]
  },
  {
   "cell_type": "code",
   "execution_count": null,
   "id": "aaf88d85-dc31-4d24-9252-9ac7725bd450",
   "metadata": {},
   "outputs": [],
   "source": [
    "for file in tqdm(os.listdir(\"mamba/gay\")):\n",
    "    file = f\"mamba/gay/{file}\"\n",
    "    file_stats = os.stat(file)\n",
    "    if \"jpg\" in file and file_stats.st_size >= 20000:\n",
    "        try:\n",
    "            handle_face(file, 1)\n",
    "        except:\n",
    "            print(\"error\")"
   ]
  },
  {
   "cell_type": "code",
   "execution_count": null,
   "id": "ffe76aea-7df6-4c9f-b562-6fa0a8415413",
   "metadata": {},
   "outputs": [],
   "source": [
    "for file in tqdm(os.listdir(\"mamba/straight\")):\n",
    "    file = f\"mamba/straight/{file}\"\n",
    "    file_stats = os.stat(file)\n",
    "    if \"jpg\" in file and file_stats.st_size >= 20000:\n",
    "        try:\n",
    "            handle_face(file, 0)\n",
    "        except:\n",
    "            print(\"error\")"
   ]
  },
  {
   "cell_type": "code",
   "execution_count": null,
   "id": "d6f24c7f-5f1c-4fcf-90a3-45c39ac4ce6a",
   "metadata": {},
   "outputs": [],
   "source": [
    "np.save(\"mamba\", np.array(data, dtype=object))"
   ]
  }
 ],
 "metadata": {
  "kernelspec": {
   "display_name": "Python 3 (ipykernel)",
   "language": "python",
   "name": "python3"
  },
  "language_info": {
   "codemirror_mode": {
    "name": "ipython",
    "version": 3
   },
   "file_extension": ".py",
   "mimetype": "text/x-python",
   "name": "python",
   "nbconvert_exporter": "python",
   "pygments_lexer": "ipython3",
   "version": "3.11.7"
  }
 },
 "nbformat": 4,
 "nbformat_minor": 5
}
